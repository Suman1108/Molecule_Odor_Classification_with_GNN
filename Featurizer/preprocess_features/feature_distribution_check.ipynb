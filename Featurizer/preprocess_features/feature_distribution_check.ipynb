{
 "cells": [
  {
   "cell_type": "code",
   "execution_count": 2,
   "id": "34e89803",
   "metadata": {},
   "outputs": [],
   "source": [
    "import pandas as pd\n",
    "from rdkit import Chem\n",
    "from collections import defaultdict\n",
    "import numpy as np\n",
    "import seaborn as sns\n",
    "import matplotlib.pyplot as plt\n"
   ]
  },
  {
   "cell_type": "markdown",
   "id": "5aab30ea",
   "metadata": {},
   "source": [
    "### Node Features Range Distribution"
   ]
  },
  {
   "cell_type": "code",
   "execution_count": null,
   "id": "b9486a11",
   "metadata": {},
   "outputs": [
    {
     "name": "stderr",
     "output_type": "stream",
     "text": [
      "[12:46:35] WARNING: not removing hydrogen atom without neighbors\n",
      "[12:46:35] WARNING: not removing hydrogen atom without neighbors\n"
     ]
    },
    {
     "name": "stdout",
     "output_type": "stream",
     "text": [
      "{'atomic_num': {'max': 35,\n",
      "                'min': 1,\n",
      "                'most_common': (6, 37931),\n",
      "                'total_unique_values': 13},\n",
      " 'degree': {'max': 4,\n",
      "            'min': 0,\n",
      "            'most_common': (2, 23273),\n",
      "            'total_unique_values': 5},\n",
      " 'formal_charge': {'max': 2,\n",
      "                   'min': -2,\n",
      "                   'most_common': (0, 44974),\n",
      "                   'total_unique_values': 5},\n",
      " 'num_hs': {'max': 4,\n",
      "            'min': 0,\n",
      "            'most_common': (2, 12566),\n",
      "            'total_unique_values': 5},\n",
      " 'num_radical_electrons': {'max': 1,\n",
      "                           'min': 0,\n",
      "                           'most_common': (0, 45048),\n",
      "                           'total_unique_values': 2},\n",
      " 'smallest_ring': {'max': 4,\n",
      "                   'min': 0,\n",
      "                   'most_common': (0, 28903),\n",
      "                   'total_unique_values': 5},\n",
      " 'valence': {'max': 6,\n",
      "             'min': 0,\n",
      "             'most_common': (4, 37951),\n",
      "             'total_unique_values': 7}}\n"
     ]
    }
   ],
   "source": [
    "# Load dataset\n",
    "df = pd.read_csv('PreprocessData/FrequentOdorExtraction/(sat)openpom_Top138.csv', encoding='ISO-8859-1')\n",
    "smiles_list = df['SMILES'].dropna().tolist()\n",
    "\n",
    "# Initialize feature distributions\n",
    "feature_distribution = {\n",
    "    'atomic_num': defaultdict(int),\n",
    "    'degree': defaultdict(int),\n",
    "    'formal_charge': defaultdict(int),\n",
    "    'num_hs': defaultdict(int),\n",
    "    'num_radical_electrons': defaultdict(int),\n",
    "    'valence': defaultdict(int),\n",
    "    'smallest_ring': defaultdict(int),\n",
    "}\n",
    "\n",
    "for smiles in smiles_list:\n",
    "    mol = Chem.MolFromSmiles(smiles)\n",
    "    if mol is None:\n",
    "        continue\n",
    "\n",
    "    for atom in mol.GetAtoms():\n",
    "        feature_distribution['atomic_num'][atom.GetAtomicNum()] += 1\n",
    "        feature_distribution['degree'][atom.GetDegree()] += 1\n",
    "        feature_distribution['formal_charge'][atom.GetFormalCharge()] += 1\n",
    "        feature_distribution['num_hs'][atom.GetTotalNumHs()] += 1\n",
    "        feature_distribution['num_radical_electrons'][atom.GetNumRadicalElectrons()] += 1\n",
    "        feature_distribution['valence'][atom.GetTotalValence()] += 1\n",
    "        feature_distribution['smallest_ring'][atom.GetOwningMol().GetRingInfo().NumAtomRings(atom.GetIdx())] += 1\n",
    "\n",
    "# Summary\n",
    "summary = {}\n",
    "for key, dist in feature_distribution.items():\n",
    "    summary[key] = {\n",
    "        \"min\": min(dist.keys()) if dist else None,\n",
    "        \"max\": max(dist.keys()) if dist else None,\n",
    "        \"most_common\": max(dist.items(), key=lambda x: x[1]) if dist else None,\n",
    "        \"total_unique_values\": len(dist)\n",
    "    }\n",
    "\n",
    "# Print results\n",
    "import pprint\n",
    "pprint.pprint(summary)\n"
   ]
  },
  {
   "cell_type": "code",
   "execution_count": 3,
   "id": "7afc8f08",
   "metadata": {},
   "outputs": [
    {
     "name": "stderr",
     "output_type": "stream",
     "text": [
      "[12:47:40] WARNING: not removing hydrogen atom without neighbors\n",
      "[12:47:40] WARNING: not removing hydrogen atom without neighbors\n"
     ]
    },
    {
     "name": "stdout",
     "output_type": "stream",
     "text": [
      "Hist plot saved as 'atomic_feature_distributions.png'\n"
     ]
    }
   ],
   "source": [
    "# Initialize feature distributions\n",
    "feature_distribution = {\n",
    "    'atomic_num': defaultdict(int),\n",
    "    'degree': defaultdict(int),\n",
    "    'formal_charge': defaultdict(int),\n",
    "    'num_hs': defaultdict(int),\n",
    "    'num_radical_electrons': defaultdict(int),\n",
    "    'valence': defaultdict(int),\n",
    "    'smallest_ring': defaultdict(int),\n",
    "}\n",
    "\n",
    "for smiles in smiles_list:\n",
    "    mol = Chem.MolFromSmiles(smiles)\n",
    "    if mol is None:\n",
    "        continue\n",
    "\n",
    "    for atom in mol.GetAtoms():\n",
    "        feature_distribution['atomic_num'][atom.GetAtomicNum()] += 1\n",
    "        feature_distribution['degree'][atom.GetDegree()] += 1\n",
    "        feature_distribution['formal_charge'][atom.GetFormalCharge()] += 1\n",
    "        feature_distribution['num_hs'][atom.GetTotalNumHs()] += 1\n",
    "        feature_distribution['num_radical_electrons'][atom.GetNumRadicalElectrons()] += 1\n",
    "        feature_distribution['valence'][atom.GetTotalValence()] += 1\n",
    "        feature_distribution['smallest_ring'][mol.GetRingInfo().NumAtomRings(atom.GetIdx())] += 1\n",
    "\n",
    "expanded_data = {}\n",
    "for feature, dist in feature_distribution.items():\n",
    "    values = []\n",
    "    for val, count in dist.items():\n",
    "        values.extend([val] * count)\n",
    "    expanded_data[feature] = values\n",
    "\n",
    "# Align all lists to same length by padding with NaN\n",
    "max_len = max(len(lst) for lst in expanded_data.values())\n",
    "for feature in expanded_data:\n",
    "    if len(expanded_data[feature]) < max_len:\n",
    "        expanded_data[feature] += [None] * (max_len - len(expanded_data[feature]))\n",
    "\n",
    "# Create DataFrame\n",
    "df_expanded = pd.DataFrame(expanded_data)\n",
    "\n",
    "# Plotting function\n",
    "def plot_feature_boxplots(dataframe, save_path=\"feature_distributions.png\"):\n",
    "    num_features = dataframe.shape[1]\n",
    "    num_cols = 4\n",
    "    num_rows = int(np.ceil(num_features / num_cols))\n",
    "\n",
    "    plt.figure(figsize=(4 * num_cols, 4 * num_rows))\n",
    "\n",
    "    for i, col in enumerate(dataframe.columns):\n",
    "        ax = plt.subplot(num_rows, num_cols, i + 1)\n",
    "        sns.countplot(x=dataframe[col], ax=ax, color='skyblue')\n",
    "        min_val = dataframe[col].min()\n",
    "        max_val = dataframe[col].max()\n",
    "        ax.set_title(f\"{col}\\nmin={min_val}, max={max_val}\", fontsize=9)\n",
    "        ax.set_xlabel(\"\")\n",
    "        ax.set_ylabel(\"\")\n",
    "\n",
    "    plt.suptitle(\"Node Feature Distributions\", fontsize=16)\n",
    "    plt.tight_layout(rect=[0, 0.03, 1, 0.97])\n",
    "    plt.savefig(save_path, dpi=300)\n",
    "    plt.close()\n",
    "\n",
    "# Call the function\n",
    "plot_feature_boxplots(df_expanded, save_path=\"atomic_feature_distributions.png\")\n",
    "print(\"Hist plot saved as 'atomic_feature_distributions.png'\")"
   ]
  }
 ],
 "metadata": {
  "kernelspec": {
   "display_name": "myenv",
   "language": "python",
   "name": "python3"
  },
  "language_info": {
   "codemirror_mode": {
    "name": "ipython",
    "version": 3
   },
   "file_extension": ".py",
   "mimetype": "text/x-python",
   "name": "python",
   "nbconvert_exporter": "python",
   "pygments_lexer": "ipython3",
   "version": "3.11.9"
  }
 },
 "nbformat": 4,
 "nbformat_minor": 5
}
