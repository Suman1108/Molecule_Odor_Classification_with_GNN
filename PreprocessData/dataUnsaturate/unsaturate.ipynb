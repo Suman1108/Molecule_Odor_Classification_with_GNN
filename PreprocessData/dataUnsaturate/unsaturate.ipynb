{
 "cells": [
  {
   "cell_type": "code",
   "execution_count": 1,
   "id": "99c7b856",
   "metadata": {},
   "outputs": [],
   "source": [
    "import pandas as pd\n",
    "import numpy as np\n",
    "import matplotlib.pyplot as plt\n",
    "import pandas as pd\n",
    "import numpy as np\n",
    "from collections import defaultdict, deque"
   ]
  },
  {
   "cell_type": "markdown",
   "id": "411f96ee",
   "metadata": {},
   "source": [
    "### Generate Unsaturated Data"
   ]
  },
  {
   "cell_type": "code",
   "execution_count": null,
   "id": "39079769",
   "metadata": {},
   "outputs": [
    {
     "name": "stdout",
     "output_type": "stream",
     "text": [
      "Unsaturation complete and saved.\n",
      "Total label columns: 394\n",
      "Total labels before unsaturation: 19695\n",
      "Total labels after unsaturation:  19118\n",
      "Total removed labels:             577\n",
      "\n",
      "Top 20 parent labels removed (most frequently):\n",
      "vert: 63 removals\n",
      "fruite: 53 removals\n",
      "doux: 42 removals\n",
      "floral: 34 removals\n",
      "epice: 30 removals\n",
      "herbe: 23 removals\n",
      "fruit_a_coque: 19 removals\n",
      "gras: 15 removals\n",
      "viande_cuite: 14 removals\n",
      "balsamique: 14 removals\n",
      "animal: 12 removals\n",
      "soufre: 11 removals\n",
      "boise: 11 removals\n",
      "oignon: 10 removals\n",
      "fruit_exotique: 8 removals\n",
      "huile: 7 removals\n",
      "pain: 7 removals\n",
      "agrume: 7 removals\n",
      "cacao: 7 removals\n",
      "frais: 6 removals\n"
     ]
    }
   ],
   "source": [
    "# Load dataset\n",
    "df = pd.read_csv('PreprocessData/FrequentOdorExtraction/(Raw)SoS_Full.csv')\n",
    "\n",
    "# Separate meta data and label columns\n",
    "label_columns = df.columns[2:]\n",
    "smiles_df = df.iloc[:, :2]\n",
    "label_df = df[label_columns]\n",
    "label_array = label_df.values.astype(int)\n",
    "n_labels = len(label_columns)\n",
    "\n",
    "# Identify parent-child relationships (child implies parent)\n",
    "child_to_parents = defaultdict(set)\n",
    "threshold = 0.95\n",
    "\n",
    "for i in range(n_labels):\n",
    "    for j in range(n_labels):\n",
    "        if i == j:\n",
    "            continue\n",
    "        child = label_array[:, i]\n",
    "        parent = label_array[:, j]\n",
    "        child_present = (child == 1)\n",
    "        both_present = (child == 1) & (parent == 1)\n",
    "        if np.sum(child_present) == 0:\n",
    "            continue\n",
    "        containment_ratio = np.sum(both_present) / (np.sum(child_present) + 1e-6)\n",
    "        if containment_ratio >= threshold:\n",
    "            child_to_parents[label_columns[i]].add(label_columns[j])  # child → parent\n",
    "\n",
    "# Recursive parent graph\n",
    "def build_parent_closure(child_to_parents):\n",
    "    closure_map = defaultdict(set)\n",
    "    for child in label_columns:\n",
    "        visited = set()\n",
    "        queue = deque(child_to_parents.get(child, []))\n",
    "        while queue:\n",
    "            parent = queue.popleft()\n",
    "            if parent not in visited:\n",
    "                visited.add(parent)\n",
    "                closure_map[child].add(parent)\n",
    "                queue.extend(child_to_parents.get(parent, []))\n",
    "    return closure_map\n",
    "\n",
    "child_to_all_parents = build_parent_closure(child_to_parents)\n",
    "\n",
    "# Unsaturate rows (remove parent labels if child is active)\n",
    "removed_counts = defaultdict(int)\n",
    "\n",
    "def unsaturate_row(row):\n",
    "    active_labels = {label for label, val in zip(label_columns, row) if val == 1}\n",
    "    to_remove = set()\n",
    "    for label in active_labels:\n",
    "        parents = child_to_all_parents.get(label, set())\n",
    "        for parent in parents:\n",
    "            if parent in active_labels:\n",
    "                removed_counts[parent] += 1\n",
    "                to_remove.add(parent)\n",
    "    return [0 if label in to_remove else val for label, val in zip(label_columns, row)]\n",
    "\n",
    "# Apply unsaturation\n",
    "unsaturated_array = np.array([unsaturate_row(row) for row in label_array])\n",
    "unsaturated_df = pd.DataFrame(unsaturated_array, columns=label_columns)\n",
    "\n",
    "# Save result\n",
    "final_df = pd.concat([smiles_df, unsaturated_df], axis=1)\n",
    "output_path = 'PreprocessData/dataUnsaturate/Unsaturated_SoS_Full.csv'\n",
    "\n",
    "# Summary stats\n",
    "total_labels_active_before = (label_array == 1).sum()\n",
    "total_labels_active_after = (unsaturated_array == 1).sum()\n",
    "total_removed = total_labels_active_before - total_labels_active_after\n",
    "\n",
    "print(\"Unsaturation complete and saved.\")\n",
    "print(f\"Total label columns: {len(label_columns)}\")\n",
    "print(f\"Total labels before unsaturation: {total_labels_active_before}\")\n",
    "print(f\"Total labels after unsaturation:  {total_labels_active_after}\")\n",
    "print(f\"Total removed labels:             {total_removed}\")\n",
    "print()\n",
    "\n",
    "# Print top 20 removed parent labels\n",
    "print(\"Top 20 parent labels removed (most frequently):\")\n",
    "for label, count in sorted(removed_counts.items(), key=lambda x: x[1], reverse=True)[:20]:\n",
    "    print(f\"{label}: {count} removals\")\n"
   ]
  },
  {
   "cell_type": "markdown",
   "id": "47cea515",
   "metadata": {},
   "source": [
    "#### Check if any Parent -> Child relationship still exists"
   ]
  },
  {
   "cell_type": "code",
   "execution_count": null,
   "id": "c544204a",
   "metadata": {},
   "outputs": [
    {
     "name": "stdout",
     "output_type": "stream",
     "text": [
      "Parent-child relationships still exist in the unsaturated data:\n",
      "Parent: boise → Child: praline\n",
      "Parent: gras → Child: dinde_cuite\n",
      "Parent: viande_cuite → Child: dinde_cuite\n",
      "Parent: viande_cuite → Child: palourde\n",
      "Parent: aiguille_de_sapin → Child: sapin\n",
      "Parent: poulet → Child: dinde_cuite\n"
     ]
    }
   ],
   "source": [
    "# Load unsaturated dataset\n",
    "unsat_df = pd.read_csv('PreprocessData/dataUnsaturate/Unsaturated_SoS_Full.csv')\n",
    "\n",
    "# Extract label columns\n",
    "label_columns = unsat_df.columns[2:]\n",
    "\n",
    "# Find parent-child pairs\n",
    "parent_child_pairs = []\n",
    "\n",
    "for possible_parent in label_columns:\n",
    "    for possible_child in label_columns:\n",
    "        if possible_parent == possible_child:\n",
    "            continue\n",
    "        \n",
    "        # If whenever child is 1, parent is also 1 → parent-child relationship\n",
    "        child_active = unsat_df[possible_child] == 1\n",
    "        if all(unsat_df.loc[child_active, possible_parent] == 1):\n",
    "            parent_child_pairs.append((possible_parent, possible_child))\n",
    "\n",
    "# Output result\n",
    "if parent_child_pairs:\n",
    "    print(\"Parent-child relationships still exist in the unsaturated data:\")\n",
    "    for parent, child in parent_child_pairs:\n",
    "        print(f\"Parent: {parent} → Child: {child}\")\n",
    "else:\n",
    "    print(\"No parent-child relationships found. The dataset is properly unsaturated.\")\n"
   ]
  },
  {
   "cell_type": "markdown",
   "id": "475339d0",
   "metadata": {},
   "source": [
    "#### Perform Second-Level Unsaturation"
   ]
  },
  {
   "cell_type": "markdown",
   "id": "feef0dbf",
   "metadata": {},
   "source": [
    "From the previous cell the Unsaturation is not complete the Parent-Child relationship still exists.</br>\n",
    "Parent: boise → Child: praline</br>\n",
    "Parent: gras → Child: dinde_cuite</br>\n",
    "Parent: viande_cuite → Child: dinde_cuite</br>\n",
    "Parent: viande_cuite → Child: palourde</br>\n",
    "Parent: aiguille_de_sapin → Child: sapin</br>\n",
    "Parent: poulet → Child: dinde_cuite"
   ]
  },
  {
   "cell_type": "code",
   "execution_count": null,
   "id": "6dd18221",
   "metadata": {},
   "outputs": [
    {
     "name": "stdout",
     "output_type": "stream",
     "text": [
      "Removed 4 'viande_cuite' labels where 'palourde' was active.\n",
      "Removed 2 'gras' labels where 'dinde_cuite' was active.\n",
      "Removed 2 'viande_cuite' labels where 'dinde_cuite' was active.\n",
      "Removed 2 'poulet' labels where 'dinde_cuite' was active.\n",
      "Removed 2 'aiguille_de_sapin' labels where 'sapin' was active.\n",
      "Removed 1 'boise' labels where 'praline' was active.\n",
      "\n",
      "Second-level unsaturation complete and saved.\n",
      "Total additional labels removed: 13\n",
      "Output file: C:/Users/suman/OneDrive/Bureau/Internship_Study/GNN_On_OdorPrediction/data/Data_Sampling/Unsaturate_data/Unsaturated_SoS_Full_Final.csv\n"
     ]
    }
   ],
   "source": [
    "unsat_path = 'PreprocessData/dataUnsaturate/Unsaturated_SoS_Full.csv'\n",
    "unsat_df = pd.read_csv(unsat_path)\n",
    "label_columns = unsat_df.columns[2:]\n",
    "label_array = unsat_df[label_columns].values.astype(int)\n",
    "\n",
    "# Hard-coded remaining parent-child relationships\n",
    "remaining_pairs = [\n",
    "    ('viande_cuite', 'palourde'),\n",
    "    ('gras', 'dinde_cuite'),\n",
    "    ('viande_cuite', 'dinde_cuite'),\n",
    "    ('poulet', 'dinde_cuite'),\n",
    "    ('aiguille_de_sapin', 'sapin'),\n",
    "    ('boise', 'praline'),\n",
    "]\n",
    "\n",
    "# Remove parents where child is active\n",
    "removed_count = 0\n",
    "for parent, child in remaining_pairs:\n",
    "    child_active = unsat_df[child] == 1\n",
    "    parent_before = unsat_df[parent].sum()\n",
    "    unsat_df.loc[child_active, parent] = 0\n",
    "    parent_after = unsat_df[parent].sum()\n",
    "    removed_count += (parent_before - parent_after)\n",
    "    print(f\"Removed {parent_before - parent_after} '{parent}' labels where '{child}' was active.\")\n",
    "\n",
    "# Save fixed dataset\n",
    "final_path = 'PreprocessData/dataUnsaturate/Unsaturated_SoS_Final.csv'\n",
    "unsat_df.to_csv(final_path, index=False)\n",
    "\n",
    "print(\"\\nSecond-level unsaturation complete and saved.\")\n",
    "print(f\"Total additional labels removed: {removed_count}\")\n",
    "print(f\"Output file: {final_path}\")\n"
   ]
  },
  {
   "cell_type": "markdown",
   "id": "1c7b0d82",
   "metadata": {},
   "source": [
    "#### Roll back to cell [21] to validation the saturation with new file. "
   ]
  }
 ],
 "metadata": {
  "kernelspec": {
   "display_name": "myenv",
   "language": "python",
   "name": "python3"
  },
  "language_info": {
   "codemirror_mode": {
    "name": "ipython",
    "version": 3
   },
   "file_extension": ".py",
   "mimetype": "text/x-python",
   "name": "python",
   "nbconvert_exporter": "python",
   "pygments_lexer": "ipython3",
   "version": "3.11.9"
  }
 },
 "nbformat": 4,
 "nbformat_minor": 5
}
